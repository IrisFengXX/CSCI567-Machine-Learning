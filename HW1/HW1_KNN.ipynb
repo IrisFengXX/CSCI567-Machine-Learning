{
 "cells": [
  {
   "cell_type": "markdown",
   "metadata": {},
   "source": [
    "# 0. load package and split dataset"
   ]
  },
  {
   "cell_type": "code",
   "execution_count": 2,
   "metadata": {},
   "outputs": [],
   "source": [
    "import numpy as np\n",
    "import json\n",
    "input_file = 'mnist_subset.json'\n",
    "output_file = 'knn_output.txt'\n",
    "\n",
    "with open(input_file) as json_data:\n",
    "    data = json.load(json_data)\n",
    "\n",
    "train_set, valid_set, test_set = data['train'], data['valid'], data['test']\n",
    "Xtrain = train_set[0]\n",
    "ytrain = train_set[1]\n",
    "Xval = valid_set[0]\n",
    "yval = valid_set[1]\n",
    "Xtest = test_set[0]\n",
    "ytest = test_set[1]\n",
    "\n",
    "Xtrain = np.array(Xtrain)\n",
    "Xval = np.array(Xval)\n",
    "Xtest = np.array(Xtest)\n",
    "\n",
    "ytrain = np.array(ytrain)\n",
    "yval = np.array(yval)\n",
    "ytest = np.array(ytest)"
   ]
  },
  {
   "cell_type": "code",
   "execution_count": 3,
   "metadata": {},
   "outputs": [
    {
     "data": {
      "text/plain": [
       "5000"
      ]
     },
     "execution_count": 3,
     "metadata": {},
     "output_type": "execute_result"
    }
   ],
   "source": [
    "len(Xtrain)"
   ]
  },
  {
   "cell_type": "code",
   "execution_count": 4,
   "metadata": {},
   "outputs": [
    {
     "data": {
      "text/plain": [
       "(5000, 784)"
      ]
     },
     "execution_count": 4,
     "metadata": {},
     "output_type": "execute_result"
    }
   ],
   "source": [
    "Xtrain.shape"
   ]
  },
  {
   "cell_type": "markdown",
   "metadata": {},
   "source": [
    "# 1. compute distance matrix"
   ]
  },
  {
   "cell_type": "code",
   "execution_count": 67,
   "metadata": {
    "collapsed": true
   },
   "outputs": [],
   "source": [
    "###### Q5.1 ######\n",
    "def compute_distances(Xtrain, X):\n",
    "    \"\"\"\n",
    "    Compute the distance between each test point in X and each training point\n",
    "    in Xtrain.\n",
    "    Inputs:\n",
    "    - Xtrain: A numpy array of shape (num_train, D) containing training data  \n",
    "    - X: A numpy array of shape (num_test, D) containing test data.\n",
    "    Returns:\n",
    "    - dists: A numpy array of shape (num_test, num_train) where dists[i, j]\n",
    "      is the Euclidean distance between the ith test point and the jth training\n",
    "      point.\n",
    "    \"\"\"\n",
    "    #####################################################\n",
    "    #\t\t\t\t YOUR CODE HERE\t\t\t\t\t                    #\n",
    "    dists = np.sqrt(-2 * np.dot(X, Xtrain.T) + np.sum(Xtrain**2, axis = 1) + np.sum(X**2, axis = 1)[:, np.newaxis])\n",
    "    #####################################################\t\t \n",
    "    return dists"
   ]
  },
  {
   "cell_type": "code",
   "execution_count": 68,
   "metadata": {},
   "outputs": [
    {
     "data": {
      "text/plain": [
       "(1000, 5000)"
      ]
     },
     "execution_count": 68,
     "metadata": {},
     "output_type": "execute_result"
    }
   ],
   "source": [
    "#==================Compute distance matrix=======================\n",
    "dists = compute_distances(Xtrain, Xval)\n",
    "dists.shape"
   ]
  },
  {
   "cell_type": "markdown",
   "metadata": {},
   "source": [
    "## Note\n",
    "Vectorization trick to calculate distance - expand the L2 formula  \n",
    "refer to https://medium.com/dataholiks-distillery/l2-distance-matrix-vectorization-trick-26aa3247ac6c \n",
    "\n"
   ]
  },
  {
   "cell_type": "markdown",
   "metadata": {},
   "source": [
    "# 2. Using distance matrix to predict "
   ]
  },
  {
   "cell_type": "code",
   "execution_count": 81,
   "metadata": {
    "collapsed": true
   },
   "outputs": [],
   "source": [
    "def predict_labels(k, ytrain, dists):\n",
    "    \"\"\"\n",
    "    Given a matrix of distances between test points and training points,\n",
    "    predict a label for each test point.\n",
    "    Inputs:\n",
    "    - k: The number of nearest neighbors used for prediction.\n",
    "    - ytrain: A numpy array of shape (num_train,) where ytrain[i] is the label\n",
    "      of the ith training point.\n",
    "    - dists: A numpy array of shape (num_test, num_train) where dists[i, j]\n",
    "      gives the distance betwen the ith test point and the jth training point.\n",
    "    Returns:\n",
    "    - ypred: A numpy array of shape (num_test,) containing predicted labels for the\n",
    "      test data, where y[i] is the predicted label for the test point X[i]. \n",
    "    \"\"\"\n",
    "    #####################################################\n",
    "    #\t\t\t\t YOUR CODE HERE\t\t\t\t\t                    #\n",
    "    ypred=[]\n",
    "    for i in range(len(dists)):\n",
    "        idx=np.argpartition(dists[i,:],k)\n",
    "        labelused=ytrain[idx[:k]]\n",
    "        label,counts=np.unique(labelused,return_counts=True)\n",
    "        label_counts=dict(zip(label,counts))\n",
    "        label_pred=sorted(label_counts.items(),key=lambda x:(-x[1],x[0]))[0][0]\n",
    "        ypred.append(label_pred)\n",
    "    ypred=np.array(ypred)\n",
    "    #####################################################\n",
    "    return ypred"
   ]
  },
  {
   "cell_type": "code",
   "execution_count": 82,
   "metadata": {},
   "outputs": [
    {
     "data": {
      "text/plain": [
       "(1000,)"
      ]
     },
     "execution_count": 82,
     "metadata": {},
     "output_type": "execute_result"
    }
   ],
   "source": [
    "p=predict_labels(5,ytrain, dists)\n",
    "p.shape"
   ]
  },
  {
   "cell_type": "code",
   "execution_count": 59,
   "metadata": {},
   "outputs": [
    {
     "ename": "TypeError",
     "evalue": "argpartition() missing 1 required positional argument: 'kth'",
     "output_type": "error",
     "traceback": [
      "\u001b[0;31m---------------------------------------------------------------------------\u001b[0m",
      "\u001b[0;31mTypeError\u001b[0m                                 Traceback (most recent call last)",
      "\u001b[0;32m<ipython-input-59-269316567799>\u001b[0m in \u001b[0;36m<module>\u001b[0;34m()\u001b[0m\n\u001b[1;32m      3\u001b[0m \u001b[0mdists\u001b[0m\u001b[0;34m[\u001b[0m\u001b[0;36m4\u001b[0m\u001b[0;34m,\u001b[0m\u001b[0;34m:\u001b[0m\u001b[0;34m]\u001b[0m\u001b[0;34m.\u001b[0m\u001b[0margmin\u001b[0m\u001b[0;34m(\u001b[0m\u001b[0maxis\u001b[0m\u001b[0;34m=\u001b[0m\u001b[0;36m0\u001b[0m\u001b[0;34m)\u001b[0m\u001b[0;34m\u001b[0m\u001b[0m\n\u001b[1;32m      4\u001b[0m \u001b[0;31m## find the k smallest/largest values\u001b[0m\u001b[0;34m\u001b[0m\u001b[0;34m\u001b[0m\u001b[0m\n\u001b[0;32m----> 5\u001b[0;31m \u001b[0midx\u001b[0m\u001b[0;34m=\u001b[0m\u001b[0mnp\u001b[0m\u001b[0;34m.\u001b[0m\u001b[0margpartition\u001b[0m\u001b[0;34m(\u001b[0m\u001b[0mdists\u001b[0m\u001b[0;34m[\u001b[0m\u001b[0;36m4\u001b[0m\u001b[0;34m,\u001b[0m\u001b[0;34m:\u001b[0m\u001b[0;34m]\u001b[0m\u001b[0;34m)\u001b[0m    \u001b[0;31m# reorder the index from small to large\u001b[0m\u001b[0;34m\u001b[0m\u001b[0m\n\u001b[0m\u001b[1;32m      6\u001b[0m \u001b[0midx\u001b[0m\u001b[0;34m[\u001b[0m\u001b[0;34m:\u001b[0m\u001b[0mk\u001b[0m\u001b[0;34m]\u001b[0m   \u001b[0;31m# top k smallest values\u001b[0m\u001b[0;34m\u001b[0m\u001b[0m\n",
      "\u001b[0;31mTypeError\u001b[0m: argpartition() missing 1 required positional argument: 'kth'"
     ]
    }
   ],
   "source": [
    "# Note: indexing for np.array\n",
    "## find the index of max/min value\n",
    "dists[4,:].argmin(axis=0)\n",
    "## find the k smallest/largest values\n",
    "idx=np.argpartition(dists[4,:])    # reorder the index from small to large\n",
    "idx[:k]   # top k smallest values"
   ]
  },
  {
   "cell_type": "code",
   "execution_count": 55,
   "metadata": {},
   "outputs": [
    {
     "data": {
      "text/plain": [
       "array([1, 6, 2, 3, 4, 0, 5, 7])"
      ]
     },
     "execution_count": 55,
     "metadata": {},
     "output_type": "execute_result"
    }
   ],
   "source": [
    "y=np.array([9,1,2,3,4,19,1,20])\n",
    "np.argpartition(y,4)"
   ]
  },
  {
   "cell_type": "markdown",
   "metadata": {},
   "source": [
    "# 3. compute prediction accuracy"
   ]
  },
  {
   "cell_type": "code",
   "execution_count": 72,
   "metadata": {
    "collapsed": true
   },
   "outputs": [],
   "source": [
    "###### Q5.3 ######\n",
    "def compute_accuracy(y, ypred):\n",
    "    \"\"\"\n",
    "    Compute the accuracy of prediction based on the true labels.\n",
    "    Inputs:\n",
    "    - y: A numpy array with of shape (num_test,) where y[i] is the true label\n",
    "      of the ith test point.\n",
    "    - ypred: A numpy array with of shape (num_test,) where ypred[i] is the \n",
    "      prediction of the ith test point.\n",
    "    Returns:\n",
    "    - acc: The accuracy of prediction (scalar).\n",
    "    \"\"\"\n",
    "    #####################################################\n",
    "    #\t\t\t\t YOUR CODE HERE\t\t\t\t\t                    #\n",
    "    acc=np.mean(y==ypred)\n",
    "    #####################################################\n",
    "    return acc"
   ]
  },
  {
   "cell_type": "code",
   "execution_count": 87,
   "metadata": {},
   "outputs": [
    {
     "name": "stdout",
     "output_type": "stream",
     "text": [
      "The validation accuracy is 0.927 when k = 5\n"
     ]
    }
   ],
   "source": [
    "    k = 5\n",
    "    ypred = predict_labels(k, ytrain, dists)\n",
    "    acc = compute_accuracy(yval, ypred)\n",
    "    print(\"The validation accuracy is\", acc, \"when k =\", k)"
   ]
  },
  {
   "cell_type": "markdown",
   "metadata": {},
   "source": [
    "# 4. tune best K for KNN"
   ]
  },
  {
   "cell_type": "code",
   "execution_count": 74,
   "metadata": {
    "collapsed": true
   },
   "outputs": [],
   "source": [
    "###### Q5.4 ######\n",
    "def find_best_k(K, ytrain, dists, yval):\n",
    "    \"\"\"\n",
    "    Find best k according to validation accuracy.\n",
    "    Inputs:\n",
    "    - K: A list of ks.\n",
    "    - ytrain: A numpy array of shape (num_train,) where ytrain[i] is the label\n",
    "      of the ith training point.\n",
    "    - dists: A numpy array of shape (num_test, num_train) where dists[i, j]\n",
    "      is the Euclidean distance between the ith test point and the jth training\n",
    "      point.\n",
    "    - yval: A numpy array with of shape (num_val,) where y[i] is the true label\n",
    "      of the ith validation point.\n",
    "    Returns:\n",
    "    - best_k: The k with the highest validation accuracy.\n",
    "    - validation_accuracy: A list of accuracies of different ks in K.\n",
    "    \"\"\"\n",
    "\n",
    "    #####################################################\n",
    "    #\t\t\t\t YOUR CODE HERE\t\t\t\t\t                    #\n",
    "    validation_accuracy=[]\n",
    "    for k in K:\n",
    "        ypred = predict_labels(k, ytrain, dists)\n",
    "        acc = compute_accuracy(yval, ypred)\n",
    "        validation_accuracy.append(acc)\n",
    "    best_k=K[validation_accuracy.index(max(validation_accuracy))]\n",
    "    #####################################################\n",
    "    return best_k, validation_accuracy"
   ]
  },
  {
   "cell_type": "code",
   "execution_count": 84,
   "metadata": {},
   "outputs": [
    {
     "name": "stdout",
     "output_type": "stream",
     "text": [
      "1\n",
      "[0.94299999999999995, 0.93799999999999994, 0.93899999999999995, 0.92800000000000005, 0.92700000000000005]\n"
     ]
    }
   ],
   "source": [
    "K=[1, 3, 5, 7, 9]\n",
    "best_k,validation_accuracy = find_best_k(K, ytrain, dists, yval)\n",
    "print(best_k)\n",
    "print(validation_accuracy)"
   ]
  },
  {
   "cell_type": "code",
   "execution_count": 85,
   "metadata": {},
   "outputs": [
    {
     "name": "stdout",
     "output_type": "stream",
     "text": [
      "0.932\n"
     ]
    }
   ],
   "source": [
    "dists = compute_distances(Xtrain, Xtest)\n",
    "ypred = predict_labels(best_k, ytrain, dists)\n",
    "test_accuracy = compute_accuracy(ytest, ypred)\n",
    "print(test_accuracy)"
   ]
  },
  {
   "cell_type": "markdown",
   "metadata": {},
   "source": [
    "## Overall"
   ]
  },
  {
   "cell_type": "code",
   "execution_count": 89,
   "metadata": {},
   "outputs": [
    {
     "name": "stdout",
     "output_type": "stream",
     "text": [
      "The validation accuracy is 0.939 when k = 5\n"
     ]
    }
   ],
   "source": [
    "\"\"\"\n",
    "Do not change the input and output format.\n",
    "If our script cannot run your code or the format is improper, your code will not be graded.\n",
    "\n",
    "The only functions you need to implement in this template is compute_distances, predict_labels, compute_accuracy\n",
    "and find_best_k.\n",
    "\"\"\"\n",
    "\n",
    "import numpy as np\n",
    "import json\n",
    "\n",
    "###### Q5.1 ######\n",
    "def compute_distances(Xtrain, X):\n",
    "\t\"\"\"\n",
    "\tCompute the distance between each test point in X and each training point\n",
    "\tin Xtrain.\n",
    "\tInputs:\n",
    "\t- Xtrain: A numpy array of shape (num_train, D) containing training data\n",
    "\t- X: A numpy array of shape (num_test, D) containing test data.\n",
    "\tReturns:\n",
    "\t- dists: A numpy array of shape (num_test, num_train) where dists[i, j]\n",
    "\t  is the Euclidean distance between the ith test point and the jth training\n",
    "\t  point.\n",
    "\t\"\"\"\n",
    "\t#####################################################\n",
    "\t#\t\t\t\t YOUR CODE HERE\t\t\t\t\t                    #\n",
    "\tdists = np.sqrt(-2 * np.dot(X, Xtrain.T) + np.sum(Xtrain**2, axis = 1) + np.sum(X**2, axis = 1)[:, np.newaxis])\n",
    "\n",
    "\t#####################################################\t\t \n",
    "\treturn dists\n",
    "\n",
    "###### Q5.2 ######\n",
    "def predict_labels(k, ytrain, dists):\n",
    "\t\"\"\"\n",
    "\tGiven a matrix of distances between test points and training points,\n",
    "\tpredict a label for each test point.\n",
    "\tInputs:\n",
    "\t- k: The number of nearest neighbors used for prediction.\n",
    "\t- ytrain: A numpy array of shape (num_train,) where ytrain[i] is the label\n",
    "\t  of the ith training point.\n",
    "\t- dists: A numpy array of shape (num_test, num_train) where dists[i, j]\n",
    "\t  gives the distance betwen the ith test point and the jth training point.\n",
    "\tReturns:\n",
    "\t- ypred: A numpy array of shape (num_test,) containing predicted labels for the\n",
    "\t  test data, where y[i] is the predicted label for the test point X[i]. \n",
    "\t\"\"\"\n",
    "\t#####################################################\n",
    "\t#\t\t\t\t YOUR CODE HERE\t\t\t\t\t                    #\n",
    "\typred=[]\n",
    "\tfor i in range(len(dists)):\n",
    "\t\tidx=np.argpartition(dists[i,:],k)\n",
    "\t\tlabelused=ytrain[idx[:k]]\n",
    "\t\tlabel,counts=np.unique(labelused,return_counts=True)\n",
    "\t\tlabel_counts=dict(zip(label,counts))\n",
    "\t\tlabel_pred=sorted(label_counts.items(),key=lambda x:(-x[1],x[0]))[0][0]\n",
    "\t\typred.append(label_pred)\n",
    "\typred=np.array(ypred)\n",
    "\t#####################################################\n",
    "\treturn ypred\n",
    "\n",
    "###### Q5.3 ######\n",
    "def compute_accuracy(y, ypred):\n",
    "\t\"\"\"\n",
    "\tCompute the accuracy of prediction based on the true labels.\n",
    "\tInputs:\n",
    "\t- y: A numpy array with of shape (num_test,) where y[i] is the true label\n",
    "\t  of the ith test point.\n",
    "\t- ypred: A numpy array with of shape (num_test,) where ypred[i] is the \n",
    "\t  prediction of the ith test point.\n",
    "\tReturns:\n",
    "\t- acc: The accuracy of prediction (scalar).\n",
    "\t\"\"\"\n",
    "\t#####################################################\n",
    "\t#\t\t\t\t YOUR CODE HERE\t\t\t\t\t                    #\n",
    "\tacc=np.mean(y==ypred)\n",
    "\t#####################################################\n",
    "\treturn acc\n",
    "\n",
    "###### Q5.4 ######\n",
    "def find_best_k(K, ytrain, dists, yval):\n",
    "\t\"\"\"\n",
    "\tFind best k according to validation accuracy.\n",
    "\tInputs:\n",
    "\t- K: A list of ks.\n",
    "\t- ytrain: A numpy array of shape (num_train,) where ytrain[i] is the label\n",
    "\t  of the ith training point.\n",
    "\t- dists: A numpy array of shape (num_test, num_train) where dists[i, j]\n",
    "\t  is the Euclidean distance between the ith test point and the jth training\n",
    "\t  point.\n",
    "\t- yval: A numpy array with of shape (num_val,) where y[i] is the true label\n",
    "\t  of the ith validation point.\n",
    "\tReturns:\n",
    "\t- best_k: The k with the highest validation accuracy.\n",
    "\t- validation_accuracy: A list of accuracies of different ks in K.\n",
    "\t\"\"\"\n",
    "\t\n",
    "\t#####################################################\n",
    "\t#\t\t\t\t YOUR CODE HERE\t\t\t\t\t                    #\n",
    "\tvalidation_accuracy=[]\n",
    "\tfor k in K:\n",
    "\t\typred = predict_labels(k, ytrain, dists)\n",
    "\t\tacc = compute_accuracy(yval, ypred)\n",
    "\t\tvalidation_accuracy.append(acc)\n",
    "\tbest_k=K[validation_accuracy.index(max(validation_accuracy))]\n",
    "\t#####################################################\n",
    "\treturn best_k, validation_accuracy\n",
    "\n",
    "\n",
    "\"\"\"\n",
    "NO MODIFICATIONS below this line.\n",
    "You should only write your code in the above functions.\n",
    "\"\"\"\n",
    "\n",
    "def data_processing(data):\n",
    "\ttrain_set, valid_set, test_set = data['train'], data['valid'], data['test']\n",
    "\tXtrain = train_set[0]\n",
    "\tytrain = train_set[1]\n",
    "\tXval = valid_set[0]\n",
    "\tyval = valid_set[1]\n",
    "\tXtest = test_set[0]\n",
    "\tytest = test_set[1]\n",
    "\t\n",
    "\tXtrain = np.array(Xtrain)\n",
    "\tXval = np.array(Xval)\n",
    "\tXtest = np.array(Xtest)\n",
    "\t\n",
    "\tytrain = np.array(ytrain)\n",
    "\tyval = np.array(yval)\n",
    "\tytest = np.array(ytest)\n",
    "\t\n",
    "\treturn Xtrain, ytrain, Xval, yval, Xtest, ytest\n",
    "\t\n",
    "def main():\n",
    "\tinput_file = 'mnist_subset.json'\n",
    "\toutput_file = 'knn_output.txt'\n",
    "\n",
    "\twith open(input_file) as json_data:\n",
    "\t\tdata = json.load(json_data)\n",
    "\t\n",
    "\t#==================Compute distance matrix=======================\n",
    "\tK=[1, 3, 5, 7, 9]\t\n",
    "\t\n",
    "\tXtrain, ytrain, Xval, yval, Xtest, ytest = data_processing(data)\n",
    "\t\n",
    "\tdists = compute_distances(Xtrain, Xval)\n",
    "\t\n",
    "\t#===============Compute validation accuracy when k=5=============\n",
    "\tk = 5\n",
    "\typred = predict_labels(k, ytrain, dists)\n",
    "\tacc = compute_accuracy(yval, ypred)\n",
    "\tprint(\"The validation accuracy is\", acc, \"when k =\", k)\n",
    "\t\n",
    "\t#==========select the best k by using validation set==============\n",
    "\tbest_k,validation_accuracy = find_best_k(K, ytrain, dists, yval)\n",
    "\n",
    "\t\n",
    "\t#===============test the performance with your best k=============\n",
    "\tdists = compute_distances(Xtrain, Xtest)\n",
    "\typred = predict_labels(best_k, ytrain, dists)\n",
    "\ttest_accuracy = compute_accuracy(ytest, ypred)\n",
    "\t\n",
    "\t#====================write your results to file===================\n",
    "\tf=open(output_file, 'w')\n",
    "\tfor i in range(len(K)):\n",
    "\t\tf.write('%d %.3f' % (K[i], validation_accuracy[i])+'\\n')\n",
    "\tf.write('%s %.3f' % ('test', test_accuracy))\n",
    "\tf.close()\n",
    "\t\n",
    "if __name__ == \"__main__\":\n",
    "\tmain()\n"
   ]
  },
  {
   "cell_type": "code",
   "execution_count": null,
   "metadata": {
    "collapsed": true
   },
   "outputs": [],
   "source": []
  }
 ],
 "metadata": {
  "kernelspec": {
   "display_name": "Python 3",
   "language": "python",
   "name": "python3"
  },
  "language_info": {
   "codemirror_mode": {
    "name": "ipython",
    "version": 3
   },
   "file_extension": ".py",
   "mimetype": "text/x-python",
   "name": "python",
   "nbconvert_exporter": "python",
   "pygments_lexer": "ipython3",
   "version": "3.6.3"
  }
 },
 "nbformat": 4,
 "nbformat_minor": 2
}
